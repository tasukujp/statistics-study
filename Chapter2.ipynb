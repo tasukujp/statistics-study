{
 "cells": [
  {
   "cell_type": "code",
   "execution_count": 13,
   "metadata": {
    "collapsed": false,
    "scrolled": true
   },
   "outputs": [
    {
     "name": "stdout",
     "output_type": "stream",
     "text": [
      "sales 標準化:[-0.2418059347761041, -0.75345905315368067, -0.13548840368465961, 0.54627276443922812, 0.023987892952507101, -0.57404821943686812, -0.62056213928937509, -0.7069451333011737, -0.77339359023332643, -0.60062760220972922, 3.2135138256958418, -0.10890902091179849, -0.50759976250471528, -0.70030028760795837, 2.1503385147813967, -0.77206462109468343, 0.42267863454542387, 0.55557554840972945, -0.17535747784395128, -0.2418059347761041]\n",
      "sales 標準化後の平均:-3.74700270811e-17\n",
      "sales 標準化後の標準偏差:1.0\n",
      "area 標準化:[-0.77983290049877629, -0.92349263040337126, 0.68070768686460592, -0.15730740424553147, -0.41589491807380241, -0.99532249535566875, -0.88997202675896581, -0.58828659395931637, -0.25308055751526143, -0.73194632386391134, 2.6823665902019624, 1.6144959312444731, -0.82771947713364136, -0.89954934208593884, 1.7820989494665005, -0.10942082761066647, 0.36944493873798345, 0.63760976789322732, -0.32491042246755891, 0.13001205556365847]\n",
      "area 標準化後の平均:5.27355936697e-17\n",
      "area 標準化後の標準偏差:1.0\n"
     ]
    }
   ],
   "source": [
    "# 2章末問題\n",
    "# 問1\n",
    "import matplotlib.pyplot as plt\n",
    "import pandas as pd\n",
    "import numpy as np\n",
    "\n",
    "farm = pd.read_csv('farm.csv')\n",
    "# 標準化 (x - 全体の平均) / 標準偏差\n",
    "m = np.mean(farm['sales'])\n",
    "s = np.std(farm['sales'])\n",
    "list = []\n",
    "for v in farm['sales']:\n",
    "    list.append((v - m) / s)\n",
    "\n",
    "print(\"sales 標準化:\" + str(list))\n",
    "print(\"sales 標準化後の平均:\" + str(np.mean(list)))\n",
    "print(\"sales 標準化後の標準偏差:\" + str(np.std(list)))\n",
    "\n",
    "m = np.mean(farm['area'])\n",
    "s = np.std(farm['area'])\n",
    "list = []\n",
    "for v in farm['area']:\n",
    "    list.append((v - m) / s)\n",
    "\n",
    "print(\"area 標準化:\" + str(list))\n",
    "print(\"area 標準化後の平均:\" + str(np.mean(list)))\n",
    "print(\"area 標準化後の標準偏差:\" + str(np.std(list)))"
   ]
  },
  {
   "cell_type": "code",
   "execution_count": 20,
   "metadata": {
    "collapsed": false
   },
   "outputs": [
    {
     "data": {
      "text/html": [
       "<div>\n",
       "<table border=\"1\" class=\"dataframe\">\n",
       "  <thead>\n",
       "    <tr style=\"text-align: right;\">\n",
       "      <th></th>\n",
       "      <th>sales</th>\n",
       "      <th>area</th>\n",
       "    </tr>\n",
       "  </thead>\n",
       "  <tbody>\n",
       "    <tr>\n",
       "      <th>15</th>\n",
       "      <td>1</td>\n",
       "      <td>200</td>\n",
       "    </tr>\n",
       "    <tr>\n",
       "      <th>16</th>\n",
       "      <td>900</td>\n",
       "      <td>300</td>\n",
       "    </tr>\n",
       "    <tr>\n",
       "      <th>17</th>\n",
       "      <td>1000</td>\n",
       "      <td>356</td>\n",
       "    </tr>\n",
       "    <tr>\n",
       "      <th>18</th>\n",
       "      <td>450</td>\n",
       "      <td>155</td>\n",
       "    </tr>\n",
       "    <tr>\n",
       "      <th>19</th>\n",
       "      <td>400</td>\n",
       "      <td>250</td>\n",
       "    </tr>\n",
       "  </tbody>\n",
       "</table>\n",
       "</div>"
      ],
      "text/plain": [
       "    sales  area\n",
       "15      1   200\n",
       "16    900   300\n",
       "17   1000   356\n",
       "18    450   155\n",
       "19    400   250"
      ]
     },
     "execution_count": 20,
     "metadata": {},
     "output_type": "execute_result"
    }
   ],
   "source": [
    "# 問2\n",
    "import pandas as pd\n",
    "farm = pd.read_csv('farm.csv')\n",
    "farm.head(5)"
   ]
  },
  {
   "cell_type": "code",
   "execution_count": 21,
   "metadata": {
    "collapsed": false
   },
   "outputs": [
    {
     "data": {
      "text/html": [
       "<div>\n",
       "<table border=\"1\" class=\"dataframe\">\n",
       "  <thead>\n",
       "    <tr style=\"text-align: right;\">\n",
       "      <th></th>\n",
       "      <th>sales</th>\n",
       "      <th>area</th>\n",
       "    </tr>\n",
       "  </thead>\n",
       "  <tbody>\n",
       "    <tr>\n",
       "      <th>15</th>\n",
       "      <td>1</td>\n",
       "      <td>200</td>\n",
       "    </tr>\n",
       "    <tr>\n",
       "      <th>16</th>\n",
       "      <td>900</td>\n",
       "      <td>300</td>\n",
       "    </tr>\n",
       "    <tr>\n",
       "      <th>17</th>\n",
       "      <td>1000</td>\n",
       "      <td>356</td>\n",
       "    </tr>\n",
       "    <tr>\n",
       "      <th>18</th>\n",
       "      <td>450</td>\n",
       "      <td>155</td>\n",
       "    </tr>\n",
       "    <tr>\n",
       "      <th>19</th>\n",
       "      <td>400</td>\n",
       "      <td>250</td>\n",
       "    </tr>\n",
       "  </tbody>\n",
       "</table>\n",
       "</div>"
      ],
      "text/plain": [
       "    sales  area\n",
       "15      1   200\n",
       "16    900   300\n",
       "17   1000   356\n",
       "18    450   155\n",
       "19    400   250"
      ]
     },
     "execution_count": 21,
     "metadata": {},
     "output_type": "execute_result"
    }
   ],
   "source": [
    "farm.tail(5)"
   ]
  },
  {
   "cell_type": "code",
   "execution_count": 22,
   "metadata": {
    "collapsed": false
   },
   "outputs": [
    {
     "name": "stdout",
     "output_type": "stream",
     "text": [
      "<class 'pandas.core.frame.DataFrame'>\n",
      "Int64Index: 20 entries, 0 to 19\n",
      "Data columns (total 2 columns):\n",
      "sales    20 non-null int64\n",
      "area     20 non-null int64\n",
      "dtypes: int64(2)\n",
      "memory usage: 480.0 bytes\n"
     ]
    }
   ],
   "source": [
    "farm.info()"
   ]
  },
  {
   "cell_type": "code",
   "execution_count": 23,
   "metadata": {
    "collapsed": false
   },
   "outputs": [
    {
     "data": {
      "text/html": [
       "<div>\n",
       "<table border=\"1\" class=\"dataframe\">\n",
       "  <thead>\n",
       "    <tr style=\"text-align: right;\">\n",
       "      <th></th>\n",
       "      <th>sales</th>\n",
       "      <th>area</th>\n",
       "    </tr>\n",
       "  </thead>\n",
       "  <tbody>\n",
       "    <tr>\n",
       "      <th>count</th>\n",
       "      <td>20.000000</td>\n",
       "      <td>20.000000</td>\n",
       "    </tr>\n",
       "    <tr>\n",
       "      <th>mean</th>\n",
       "      <td>581.950000</td>\n",
       "      <td>222.850000</td>\n",
       "    </tr>\n",
       "    <tr>\n",
       "      <th>std</th>\n",
       "      <td>772.010668</td>\n",
       "      <td>214.251764</td>\n",
       "    </tr>\n",
       "    <tr>\n",
       "      <th>min</th>\n",
       "      <td>0.000000</td>\n",
       "      <td>15.000000</td>\n",
       "    </tr>\n",
       "    <tr>\n",
       "      <th>25%</th>\n",
       "      <td>100.000000</td>\n",
       "      <td>57.500000</td>\n",
       "    </tr>\n",
       "    <tr>\n",
       "      <th>50%</th>\n",
       "      <td>400.000000</td>\n",
       "      <td>162.500000</td>\n",
       "    </tr>\n",
       "    <tr>\n",
       "      <th>75%</th>\n",
       "      <td>675.000000</td>\n",
       "      <td>314.000000</td>\n",
       "    </tr>\n",
       "    <tr>\n",
       "      <th>max</th>\n",
       "      <td>3000.000000</td>\n",
       "      <td>783.000000</td>\n",
       "    </tr>\n",
       "  </tbody>\n",
       "</table>\n",
       "</div>"
      ],
      "text/plain": [
       "             sales        area\n",
       "count    20.000000   20.000000\n",
       "mean    581.950000  222.850000\n",
       "std     772.010668  214.251764\n",
       "min       0.000000   15.000000\n",
       "25%     100.000000   57.500000\n",
       "50%     400.000000  162.500000\n",
       "75%     675.000000  314.000000\n",
       "max    3000.000000  783.000000"
      ]
     },
     "execution_count": 23,
     "metadata": {},
     "output_type": "execute_result"
    }
   ],
   "source": [
    "farm.describe()"
   ]
  },
  {
   "cell_type": "code",
   "execution_count": 24,
   "metadata": {
    "collapsed": false
   },
   "outputs": [
    {
     "data": {
      "text/plain": [
       "pandas.core.frame.DataFrame"
      ]
     },
     "execution_count": 24,
     "metadata": {},
     "output_type": "execute_result"
    }
   ],
   "source": [
    "type(farm)"
   ]
  },
  {
   "cell_type": "code",
   "execution_count": 25,
   "metadata": {
    "collapsed": false
   },
   "outputs": [
    {
     "data": {
      "text/plain": [
       "pandas.core.series.Series"
      ]
     },
     "execution_count": 25,
     "metadata": {},
     "output_type": "execute_result"
    }
   ],
   "source": [
    "type(farm['sales'])"
   ]
  },
  {
   "cell_type": "code",
   "execution_count": 28,
   "metadata": {
    "collapsed": false
   },
   "outputs": [
    {
     "data": {
      "text/plain": [
       "sales    2.202648\n",
       "area     1.344194\n",
       "dtype: float64"
      ]
     },
     "execution_count": 28,
     "metadata": {},
     "output_type": "execute_result"
    }
   ],
   "source": [
    "farm.skew()  # 歪度"
   ]
  },
  {
   "cell_type": "code",
   "execution_count": 29,
   "metadata": {
    "collapsed": false
   },
   "outputs": [
    {
     "data": {
      "text/plain": [
       "sales    4.950923\n",
       "area     1.241717\n",
       "dtype: float64"
      ]
     },
     "execution_count": 29,
     "metadata": {},
     "output_type": "execute_result"
    }
   ],
   "source": [
    "farm.kurt()  # 尖度"
   ]
  },
  {
   "cell_type": "code",
   "execution_count": 33,
   "metadata": {
    "collapsed": false
   },
   "outputs": [
    {
     "name": "stdout",
     "output_type": "stream",
     "text": [
      "標準化した値:2.0\n",
      "偏差値:70.0\n"
     ]
    }
   ],
   "source": [
    "# 問3\n",
    "print(\"標準化した値:\" + str((80 - 60) / 10))\n",
    "print(\"偏差値:\" + str(10*(80 - 60) / 10 + 50))"
   ]
  },
  {
   "cell_type": "code",
   "execution_count": null,
   "metadata": {
    "collapsed": true
   },
   "outputs": [],
   "source": []
  }
 ],
 "metadata": {
  "kernelspec": {
   "display_name": "Python 3",
   "language": "python",
   "name": "python3"
  },
  "language_info": {
   "codemirror_mode": {
    "name": "ipython",
    "version": 3
   },
   "file_extension": ".py",
   "mimetype": "text/x-python",
   "name": "python",
   "nbconvert_exporter": "python",
   "pygments_lexer": "ipython3",
   "version": "3.5.0"
  }
 },
 "nbformat": 4,
 "nbformat_minor": 0
}
