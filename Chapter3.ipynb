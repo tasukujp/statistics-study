{
 "cells": [
  {
   "cell_type": "code",
   "execution_count": 19,
   "metadata": {
    "collapsed": true
   },
   "outputs": [],
   "source": [
    "# 例題 p.54\n",
    "%matplotlib inline\n",
    "import pandas as pd\n",
    "import numpy as np"
   ]
  },
  {
   "cell_type": "code",
   "execution_count": 12,
   "metadata": {
    "collapsed": false
   },
   "outputs": [
    {
     "name": "stdout",
     "output_type": "stream",
     "text": [
      "      a     b\n",
      "0  3063  3157\n",
      "1  2275  2707\n",
      "2  2089  3270\n",
      "3  2855  3181\n",
      "4  2836  3633\n",
      "       a     b\n",
      "10  2140  2938\n",
      "11  1757  3286\n",
      "12  2499  2920\n",
      "13  2093  3332\n",
      "14  2073  3478\n",
      "<class 'pandas.core.frame.DataFrame'>\n",
      "Int64Index: 15 entries, 0 to 14\n",
      "Data columns (total 2 columns):\n",
      "a    15 non-null int64\n",
      "b    15 non-null int64\n",
      "dtypes: int64(2)\n",
      "memory usage: 360.0 bytes\n",
      "None\n"
     ]
    },
    {
     "data": {
      "text/html": [
       "<div>\n",
       "<table border=\"1\" class=\"dataframe\">\n",
       "  <thead>\n",
       "    <tr style=\"text-align: right;\">\n",
       "      <th></th>\n",
       "      <th>a</th>\n",
       "      <th>b</th>\n",
       "    </tr>\n",
       "  </thead>\n",
       "  <tbody>\n",
       "    <tr>\n",
       "      <th>count</th>\n",
       "      <td>15.000000</td>\n",
       "      <td>15.000000</td>\n",
       "    </tr>\n",
       "    <tr>\n",
       "      <th>mean</th>\n",
       "      <td>2443.666667</td>\n",
       "      <td>3124.400000</td>\n",
       "    </tr>\n",
       "    <tr>\n",
       "      <th>std</th>\n",
       "      <td>428.050175</td>\n",
       "      <td>365.397592</td>\n",
       "    </tr>\n",
       "    <tr>\n",
       "      <th>min</th>\n",
       "      <td>1757.000000</td>\n",
       "      <td>2219.000000</td>\n",
       "    </tr>\n",
       "    <tr>\n",
       "      <th>25%</th>\n",
       "      <td>2114.500000</td>\n",
       "      <td>2929.000000</td>\n",
       "    </tr>\n",
       "    <tr>\n",
       "      <th>50%</th>\n",
       "      <td>2275.000000</td>\n",
       "      <td>3203.000000</td>\n",
       "    </tr>\n",
       "    <tr>\n",
       "      <th>75%</th>\n",
       "      <td>2826.500000</td>\n",
       "      <td>3368.000000</td>\n",
       "    </tr>\n",
       "    <tr>\n",
       "      <th>max</th>\n",
       "      <td>3219.000000</td>\n",
       "      <td>3633.000000</td>\n",
       "    </tr>\n",
       "  </tbody>\n",
       "</table>\n",
       "</div>"
      ],
      "text/plain": [
       "                 a            b\n",
       "count    15.000000    15.000000\n",
       "mean   2443.666667  3124.400000\n",
       "std     428.050175   365.397592\n",
       "min    1757.000000  2219.000000\n",
       "25%    2114.500000  2929.000000\n",
       "50%    2275.000000  3203.000000\n",
       "75%    2826.500000  3368.000000\n",
       "max    3219.000000  3633.000000"
      ]
     },
     "execution_count": 12,
     "metadata": {},
     "output_type": "execute_result"
    }
   ],
   "source": [
    "cucumber = pd.read_csv('data/cucumber.csv')\n",
    "print(cucumber.head(5))\n",
    "print(cucumber.tail(5))\n",
    "print(cucumber.info())\n",
    "cucumber.describe()  # 要約統計量"
   ]
  },
  {
   "cell_type": "code",
   "execution_count": 21,
   "metadata": {
    "collapsed": false
   },
   "outputs": [
    {
     "name": "stdout",
     "output_type": "stream",
     "text": [
      "標本分散\n",
      "a    171011.822222\n",
      "b    124614.373333\n",
      "dtype: float64\n",
      "a    171011.822222\n",
      "b    124614.373333\n",
      "dtype: float64\n",
      "不偏分散\n",
      "a    183226.952381\n",
      "b    133515.400000\n",
      "dtype: float64\n",
      "a    183226.952381\n",
      "b    133515.400000\n",
      "dtype: float64\n"
     ]
    }
   ],
   "source": [
    "# pandasでは分散 / 標準偏差について不偏推定量の計算がデフォルトになっている。\n",
    "# 逆にnumpyでは標本統計量の計算がデフォルトであり、両方ともddofオプションで制御できる。\n",
    "# ddof とは Delta Degrees of Freedom の略。\n",
    "\n",
    "# 標本分散 (sample variance)\n",
    "print(\"標本分散\")\n",
    "svar = cucumber.var(ddof=False)\n",
    "print(svar)\n",
    "np_svar = np.var(cucumber)\n",
    "print(np_svar)\n",
    "\n",
    "# 不偏分散 (unbiased variance)\n",
    "print(\"不偏分散\")\n",
    "uvar = cucumber.var()\n",
    "print(uvar)\n",
    "np_uvar = np.var(cucumber, ddof=True)\n",
    "print(np_uvar)"
   ]
  },
  {
   "cell_type": "code",
   "execution_count": 23,
   "metadata": {
    "collapsed": false
   },
   "outputs": [
    {
     "name": "stdout",
     "output_type": "stream",
     "text": [
      "標本標準偏差\n",
      "a    413.535757\n",
      "b    353.007611\n",
      "dtype: float64\n",
      "a    413.535757\n",
      "b    353.007611\n",
      "dtype: float64\n",
      "不偏標準偏差\n",
      "a    428.050175\n",
      "b    365.397592\n",
      "dtype: float64\n",
      "a    428.050175\n",
      "b    365.397592\n",
      "dtype: float64\n"
     ]
    }
   ],
   "source": [
    "# 標本標準偏差 (sample standard deviation[S.D.])\n",
    "print(\"標本標準偏差\")\n",
    "sstd = cucumber.std(ddof=False)\n",
    "print(sstd)\n",
    "np_sstd = np.std(cucumber)\n",
    "print(np_sstd)\n",
    "\n",
    "# 不偏標準偏差 (unbiased standard deviation[S.D.])\n",
    "print(\"不偏標準偏差\")\n",
    "ustd = cucumber.std()\n",
    "print(ustd)\n",
    "np_ustd = np.std(cucumber, ddof=True)\n",
    "print(np_ustd)"
   ]
  },
  {
   "cell_type": "code",
   "execution_count": null,
   "metadata": {
    "collapsed": true
   },
   "outputs": [],
   "source": []
  }
 ],
 "metadata": {
  "kernelspec": {
   "display_name": "Python 3",
   "language": "python",
   "name": "python3"
  },
  "language_info": {
   "codemirror_mode": {
    "name": "ipython",
    "version": 3
   },
   "file_extension": ".py",
   "mimetype": "text/x-python",
   "name": "python",
   "nbconvert_exporter": "python",
   "pygments_lexer": "ipython3",
   "version": "3.5.0"
  }
 },
 "nbformat": 4,
 "nbformat_minor": 0
}
